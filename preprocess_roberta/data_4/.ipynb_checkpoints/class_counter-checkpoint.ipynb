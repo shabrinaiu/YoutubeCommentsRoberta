{
 "cells": [
  {
   "cell_type": "code",
   "execution_count": 2,
   "id": "c8e0b341-2b19-4ce3-91d4-b2632c5b45e2",
   "metadata": {},
   "outputs": [
    {
     "name": "stdout",
     "output_type": "stream",
     "text": [
      "1    9533\n",
      "2    1547\n",
      "0     994\n",
      "Name: label, dtype: int64\n",
      "12074\n"
     ]
    }
   ],
   "source": [
    "import pandas as pd\n",
    "\n",
    "# Read the CSV file into a pandas data frame\n",
    "df1 = pd.read_csv('train_data.csv')\n",
    "df2 = pd.read_csv('test_data.csv')\n",
    "\n",
    "union_df = pd.concat([df1, df2])\n",
    "\n",
    "# Count the frequency of class labels\n",
    "class_label_counts = union_df['label'].value_counts()\n",
    "\n",
    "# Print the frequency of each class label\n",
    "print(class_label_counts)\n",
    "print(len(union_df))"
   ]
  },
  {
   "cell_type": "code",
   "execution_count": null,
   "id": "d2a1209b-9c9a-4568-9a11-2be032f830a8",
   "metadata": {},
   "outputs": [],
   "source": []
  }
 ],
 "metadata": {
  "kernelspec": {
   "display_name": "Python 3 (ipykernel)",
   "language": "python",
   "name": "python3"
  },
  "language_info": {
   "codemirror_mode": {
    "name": "ipython",
    "version": 3
   },
   "file_extension": ".py",
   "mimetype": "text/x-python",
   "name": "python",
   "nbconvert_exporter": "python",
   "pygments_lexer": "ipython3",
   "version": "3.10.7"
  }
 },
 "nbformat": 4,
 "nbformat_minor": 5
}
