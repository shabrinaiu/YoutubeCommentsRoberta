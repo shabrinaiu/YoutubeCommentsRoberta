{
 "cells": [
  {
   "cell_type": "code",
   "execution_count": 1,
   "metadata": {
    "colab": {
     "base_uri": "https://localhost:8080/",
     "height": 423
    },
    "id": "KIw22WL7t6Lc",
    "outputId": "9fc813df-fab1-42a3-d891-f9c38148b6bf"
   },
   "outputs": [
    {
     "name": "stdout",
     "output_type": "stream",
     "text": [
      "                                                      0\n",
      "0                                                  text\n",
      "1     What can you immediately start implementing in...\n",
      "2              Does playing online games improves focus\n",
      "3     I wished that all comments goes to me i mean m...\n",
      "4                      when you comed back you missed 5\n",
      "...                                                 ...\n",
      "3900                          Monitor your self thought\n",
      "3901  Thank you for the message its touching and rea...\n",
      "3902  Thank you once more. Unleashing Supper brain  ...\n",
      "3903           Sharing this info with my 12 yr old son.\n",
      "3904  First! Love the message sharing it with my twi...\n",
      "\n",
      "[3905 rows x 1 columns]\n"
     ]
    }
   ],
   "source": [
    "# import csv\n",
    "import pandas as pd\n",
    "\n",
    "df = pd.read_csv('cleaned_comments.csv', header=None)\n",
    "\n",
    "print(df)\n",
    "df_saved = df.copy()"
   ]
  },
  {
   "cell_type": "code",
   "execution_count": 2,
   "metadata": {
    "colab": {
     "base_uri": "https://localhost:8080/"
    },
    "id": "LyiMcKfMT5ER",
    "outputId": "ec4b0b50-d08f-4958-d6d9-b0ffd47dbf3b"
   },
   "outputs": [
    {
     "name": "stderr",
     "output_type": "stream",
     "text": [
      "C:\\Users\\PPTI Java\\AppData\\Local\\Programs\\Python\\Python310\\lib\\site-packages\\scipy\\__init__.py:155: UserWarning: A NumPy version >=1.18.5 and <1.25.0 is required for this version of SciPy (detected version 1.26.0\n",
      "  warnings.warn(f\"A NumPy version >={np_minversion} and <{np_maxversion}\"\n",
      "[nltk_data] Downloading package stopwords to C:\\Users\\PPTI\n",
      "[nltk_data]     Java\\AppData\\Roaming\\nltk_data...\n",
      "[nltk_data]   Package stopwords is already up-to-date!\n",
      "[nltk_data] Downloading package punkt to C:\\Users\\PPTI\n",
      "[nltk_data]     Java\\AppData\\Roaming\\nltk_data...\n",
      "[nltk_data]   Package punkt is already up-to-date!\n"
     ]
    },
    {
     "data": {
      "text/plain": [
       "True"
      ]
     },
     "execution_count": 2,
     "metadata": {},
     "output_type": "execute_result"
    }
   ],
   "source": [
    "# Downlaoad NLTK\n",
    "import nltk\n",
    "\n",
    "nltk.download('stopwords')\n",
    "nltk.download('punkt')"
   ]
  },
  {
   "cell_type": "code",
   "execution_count": 3,
   "metadata": {
    "colab": {
     "base_uri": "https://localhost:8080/",
     "height": 423
    },
    "id": "8Ds1mMFiWIpe",
    "outputId": "771288d4-31c8-4bc7-8699-7cd1265eda8a"
   },
   "outputs": [
    {
     "data": {
      "text/html": [
       "<div>\n",
       "<style scoped>\n",
       "    .dataframe tbody tr th:only-of-type {\n",
       "        vertical-align: middle;\n",
       "    }\n",
       "\n",
       "    .dataframe tbody tr th {\n",
       "        vertical-align: top;\n",
       "    }\n",
       "\n",
       "    .dataframe thead th {\n",
       "        text-align: right;\n",
       "    }\n",
       "</style>\n",
       "<table border=\"1\" class=\"dataframe\">\n",
       "  <thead>\n",
       "    <tr style=\"text-align: right;\">\n",
       "      <th></th>\n",
       "      <th>0</th>\n",
       "    </tr>\n",
       "  </thead>\n",
       "  <tbody>\n",
       "    <tr>\n",
       "      <th>0</th>\n",
       "      <td>text</td>\n",
       "    </tr>\n",
       "    <tr>\n",
       "      <th>1</th>\n",
       "      <td>what can you immediately start implementing in...</td>\n",
       "    </tr>\n",
       "    <tr>\n",
       "      <th>2</th>\n",
       "      <td>does playing online games improves focus</td>\n",
       "    </tr>\n",
       "    <tr>\n",
       "      <th>3</th>\n",
       "      <td>i wished that all comments goes to me i mean m...</td>\n",
       "    </tr>\n",
       "    <tr>\n",
       "      <th>4</th>\n",
       "      <td>when you comed back you missed 5</td>\n",
       "    </tr>\n",
       "    <tr>\n",
       "      <th>...</th>\n",
       "      <td>...</td>\n",
       "    </tr>\n",
       "    <tr>\n",
       "      <th>3900</th>\n",
       "      <td>monitor your self thought</td>\n",
       "    </tr>\n",
       "    <tr>\n",
       "      <th>3901</th>\n",
       "      <td>thank you for the message its touching and rea...</td>\n",
       "    </tr>\n",
       "    <tr>\n",
       "      <th>3902</th>\n",
       "      <td>thank you once more. unleashing supper brain  ...</td>\n",
       "    </tr>\n",
       "    <tr>\n",
       "      <th>3903</th>\n",
       "      <td>sharing this info with my 12 yr old son.</td>\n",
       "    </tr>\n",
       "    <tr>\n",
       "      <th>3904</th>\n",
       "      <td>first! love the message sharing it with my twi...</td>\n",
       "    </tr>\n",
       "  </tbody>\n",
       "</table>\n",
       "<p>3905 rows × 1 columns</p>\n",
       "</div>"
      ],
      "text/plain": [
       "                                                      0\n",
       "0                                                  text\n",
       "1     what can you immediately start implementing in...\n",
       "2              does playing online games improves focus\n",
       "3     i wished that all comments goes to me i mean m...\n",
       "4                      when you comed back you missed 5\n",
       "...                                                 ...\n",
       "3900                          monitor your self thought\n",
       "3901  thank you for the message its touching and rea...\n",
       "3902  thank you once more. unleashing supper brain  ...\n",
       "3903           sharing this info with my 12 yr old son.\n",
       "3904  first! love the message sharing it with my twi...\n",
       "\n",
       "[3905 rows x 1 columns]"
      ]
     },
     "execution_count": 3,
     "metadata": {},
     "output_type": "execute_result"
    }
   ],
   "source": [
    "# Case Folding\n",
    "df = df.applymap(lambda s: s.lower() if type(s) == str else s)\n",
    "\n",
    "df"
   ]
  },
  {
   "cell_type": "code",
   "execution_count": 4,
   "metadata": {
    "colab": {
     "base_uri": "https://localhost:8080/",
     "height": 423
    },
    "id": "terd0rFnXTsC",
    "outputId": "68abcb54-1080-41ed-f124-076b136e11c4"
   },
   "outputs": [
    {
     "data": {
      "text/html": [
       "<div>\n",
       "<style scoped>\n",
       "    .dataframe tbody tr th:only-of-type {\n",
       "        vertical-align: middle;\n",
       "    }\n",
       "\n",
       "    .dataframe tbody tr th {\n",
       "        vertical-align: top;\n",
       "    }\n",
       "\n",
       "    .dataframe thead th {\n",
       "        text-align: right;\n",
       "    }\n",
       "</style>\n",
       "<table border=\"1\" class=\"dataframe\">\n",
       "  <thead>\n",
       "    <tr style=\"text-align: right;\">\n",
       "      <th></th>\n",
       "      <th>0</th>\n",
       "    </tr>\n",
       "  </thead>\n",
       "  <tbody>\n",
       "    <tr>\n",
       "      <th>0</th>\n",
       "      <td>[text]</td>\n",
       "    </tr>\n",
       "    <tr>\n",
       "      <th>1</th>\n",
       "      <td>[what, can, you, immediately, start, implement...</td>\n",
       "    </tr>\n",
       "    <tr>\n",
       "      <th>2</th>\n",
       "      <td>[does, playing, online, games, improves, focus]</td>\n",
       "    </tr>\n",
       "    <tr>\n",
       "      <th>3</th>\n",
       "      <td>[i, wished, that, all, comments, goes, to, me,...</td>\n",
       "    </tr>\n",
       "    <tr>\n",
       "      <th>4</th>\n",
       "      <td>[when, you, comed, back, you, missed]</td>\n",
       "    </tr>\n",
       "    <tr>\n",
       "      <th>...</th>\n",
       "      <td>...</td>\n",
       "    </tr>\n",
       "    <tr>\n",
       "      <th>3900</th>\n",
       "      <td>[monitor, your, self, thought]</td>\n",
       "    </tr>\n",
       "    <tr>\n",
       "      <th>3901</th>\n",
       "      <td>[thank, you, for, the, message, its, touching,...</td>\n",
       "    </tr>\n",
       "    <tr>\n",
       "      <th>3902</th>\n",
       "      <td>[thank, you, once, more, ., unleashing, supper...</td>\n",
       "    </tr>\n",
       "    <tr>\n",
       "      <th>3903</th>\n",
       "      <td>[sharing, this, info, with, my, yr, old, son, .]</td>\n",
       "    </tr>\n",
       "    <tr>\n",
       "      <th>3904</th>\n",
       "      <td>[first, !, love, the, message, sharing, it, wi...</td>\n",
       "    </tr>\n",
       "  </tbody>\n",
       "</table>\n",
       "<p>3905 rows × 1 columns</p>\n",
       "</div>"
      ],
      "text/plain": [
       "                                                      0\n",
       "0                                                [text]\n",
       "1     [what, can, you, immediately, start, implement...\n",
       "2       [does, playing, online, games, improves, focus]\n",
       "3     [i, wished, that, all, comments, goes, to, me,...\n",
       "4                 [when, you, comed, back, you, missed]\n",
       "...                                                 ...\n",
       "3900                     [monitor, your, self, thought]\n",
       "3901  [thank, you, for, the, message, its, touching,...\n",
       "3902  [thank, you, once, more, ., unleashing, supper...\n",
       "3903   [sharing, this, info, with, my, yr, old, son, .]\n",
       "3904  [first, !, love, the, message, sharing, it, wi...\n",
       "\n",
       "[3905 rows x 1 columns]"
      ]
     },
     "execution_count": 4,
     "metadata": {},
     "output_type": "execute_result"
    }
   ],
   "source": [
    "# Tokenization\n",
    "import re\n",
    "import string\n",
    "from nltk.tokenize import word_tokenize\n",
    "\n",
    "# Remove Number\n",
    "df = df.applymap(lambda s: re.sub(r\"\\d+\", \"\", s) if type(s) == str else s)\n",
    "\n",
    "# Remove punctuation\n",
    "# translator = str.maketrans(\"\", \"\", string.punctuation)\n",
    "# df = df.applymap(lambda s: s.translate(translator) if type(s) == str else s)\n",
    "\n",
    "# Trim whitespace\n",
    "df = df.applymap(lambda s: s.strip() if type(s) == str else s)\n",
    "\n",
    "# Change whitespace in between text into a single whitespace\n",
    "df = df.applymap(lambda s: re.sub('\\s+',' ', s) if type(s) == str else s)\n",
    "\n",
    "# Tokenize\n",
    "df_tokens = df.applymap(lambda s: word_tokenize(s) if type(s) == str else s)\n",
    "\n",
    "df_tokens"
   ]
  },
  {
   "cell_type": "code",
   "execution_count": 5,
   "metadata": {
    "colab": {
     "base_uri": "https://localhost:8080/",
     "height": 423
    },
    "id": "vd4_8cSfZuwQ",
    "outputId": "44007642-c7d3-43c1-cc7a-6b68417775bc"
   },
   "outputs": [
    {
     "data": {
      "text/html": [
       "<div>\n",
       "<style scoped>\n",
       "    .dataframe tbody tr th:only-of-type {\n",
       "        vertical-align: middle;\n",
       "    }\n",
       "\n",
       "    .dataframe tbody tr th {\n",
       "        vertical-align: top;\n",
       "    }\n",
       "\n",
       "    .dataframe thead th {\n",
       "        text-align: right;\n",
       "    }\n",
       "</style>\n",
       "<table border=\"1\" class=\"dataframe\">\n",
       "  <thead>\n",
       "    <tr style=\"text-align: right;\">\n",
       "      <th></th>\n",
       "      <th>0</th>\n",
       "    </tr>\n",
       "  </thead>\n",
       "  <tbody>\n",
       "    <tr>\n",
       "      <th>0</th>\n",
       "      <td>[text]</td>\n",
       "    </tr>\n",
       "    <tr>\n",
       "      <th>1</th>\n",
       "      <td>[immediately, start, implementing, life, ?, ex...</td>\n",
       "    </tr>\n",
       "    <tr>\n",
       "      <th>2</th>\n",
       "      <td>[playing, online, games, improves, focus]</td>\n",
       "    </tr>\n",
       "    <tr>\n",
       "      <th>3</th>\n",
       "      <td>[wished, comments, goes, mean, im, right, ok, ...</td>\n",
       "    </tr>\n",
       "    <tr>\n",
       "      <th>4</th>\n",
       "      <td>[comed, back, missed]</td>\n",
       "    </tr>\n",
       "    <tr>\n",
       "      <th>...</th>\n",
       "      <td>...</td>\n",
       "    </tr>\n",
       "    <tr>\n",
       "      <th>3900</th>\n",
       "      <td>[monitor, self, thought]</td>\n",
       "    </tr>\n",
       "    <tr>\n",
       "      <th>3901</th>\n",
       "      <td>[thank, message, touching, real, .., graduatio...</td>\n",
       "    </tr>\n",
       "    <tr>\n",
       "      <th>3902</th>\n",
       "      <td>[thank, ., unleashing, supper, brain, reminded...</td>\n",
       "    </tr>\n",
       "    <tr>\n",
       "      <th>3903</th>\n",
       "      <td>[sharing, info, yr, old, son, .]</td>\n",
       "    </tr>\n",
       "    <tr>\n",
       "      <th>3904</th>\n",
       "      <td>[first, !, love, message, sharing, twins, !, o...</td>\n",
       "    </tr>\n",
       "  </tbody>\n",
       "</table>\n",
       "<p>3905 rows × 1 columns</p>\n",
       "</div>"
      ],
      "text/plain": [
       "                                                      0\n",
       "0                                                [text]\n",
       "1     [immediately, start, implementing, life, ?, ex...\n",
       "2             [playing, online, games, improves, focus]\n",
       "3     [wished, comments, goes, mean, im, right, ok, ...\n",
       "4                                 [comed, back, missed]\n",
       "...                                                 ...\n",
       "3900                           [monitor, self, thought]\n",
       "3901  [thank, message, touching, real, .., graduatio...\n",
       "3902  [thank, ., unleashing, supper, brain, reminded...\n",
       "3903                   [sharing, info, yr, old, son, .]\n",
       "3904  [first, !, love, message, sharing, twins, !, o...\n",
       "\n",
       "[3905 rows x 1 columns]"
      ]
     },
     "execution_count": 5,
     "metadata": {},
     "output_type": "execute_result"
    }
   ],
   "source": [
    "# Stop Words Removal\n",
    "from nltk.corpus import stopwords\n",
    "\n",
    "en_list_stopwords = set(stopwords.words('english'))\n",
    "id_list_stopwords = set(stopwords.words('indonesian'))\n",
    "\n",
    "df_tokens = df_tokens.applymap(lambda s: [word for word in s if not word in id_list_stopwords and not word in en_list_stopwords] if type(s) == list else s)\n",
    "\n",
    "df_tokens"
   ]
  },
  {
   "cell_type": "code",
   "execution_count": 6,
   "metadata": {
    "colab": {
     "base_uri": "https://localhost:8080/"
    },
    "id": "mkfcveQDaQTy",
    "outputId": "f0bec12f-0524-4f07-f489-2290fa6c0313"
   },
   "outputs": [
    {
     "name": "stdout",
     "output_type": "stream",
     "text": [
      "Requirement already satisfied: Sastrawi in c:\\users\\ppti java\\appdata\\local\\programs\\python\\python310\\lib\\site-packages (1.0.1)\n"
     ]
    },
    {
     "name": "stderr",
     "output_type": "stream",
     "text": [
      "\n",
      "[notice] A new release of pip is available: 23.2.1 -> 23.3.1\n",
      "[notice] To update, run: python.exe -m pip install --upgrade pip\n"
     ]
    }
   ],
   "source": [
    "# Install Stemming in Indonesian\n",
    "!pip install Sastrawi"
   ]
  },
  {
   "cell_type": "code",
   "execution_count": 7,
   "metadata": {},
   "outputs": [
    {
     "data": {
      "text/html": [
       "<div>\n",
       "<style scoped>\n",
       "    .dataframe tbody tr th:only-of-type {\n",
       "        vertical-align: middle;\n",
       "    }\n",
       "\n",
       "    .dataframe tbody tr th {\n",
       "        vertical-align: top;\n",
       "    }\n",
       "\n",
       "    .dataframe thead th {\n",
       "        text-align: right;\n",
       "    }\n",
       "</style>\n",
       "<table border=\"1\" class=\"dataframe\">\n",
       "  <thead>\n",
       "    <tr style=\"text-align: right;\">\n",
       "      <th></th>\n",
       "      <th>0</th>\n",
       "    </tr>\n",
       "  </thead>\n",
       "  <tbody>\n",
       "    <tr>\n",
       "      <th>0</th>\n",
       "      <td>[text]</td>\n",
       "    </tr>\n",
       "    <tr>\n",
       "      <th>1</th>\n",
       "      <td>[immedi, start, implement, life, ?, experi, le...</td>\n",
       "    </tr>\n",
       "    <tr>\n",
       "      <th>2</th>\n",
       "      <td>[play, onlin, game, improv, focu]</td>\n",
       "    </tr>\n",
       "    <tr>\n",
       "      <th>3</th>\n",
       "      <td>[wish, comment, goe, mean, im, right, ok, than...</td>\n",
       "    </tr>\n",
       "    <tr>\n",
       "      <th>4</th>\n",
       "      <td>[come, back, miss]</td>\n",
       "    </tr>\n",
       "    <tr>\n",
       "      <th>...</th>\n",
       "      <td>...</td>\n",
       "    </tr>\n",
       "    <tr>\n",
       "      <th>3900</th>\n",
       "      <td>[monitor, self, thought]</td>\n",
       "    </tr>\n",
       "    <tr>\n",
       "      <th>3901</th>\n",
       "      <td>[thank, messag, touch, real, .., graduation_cap]</td>\n",
       "    </tr>\n",
       "    <tr>\n",
       "      <th>3902</th>\n",
       "      <td>[thank, ., unleash, supper, brain, remind, rem...</td>\n",
       "    </tr>\n",
       "    <tr>\n",
       "      <th>3903</th>\n",
       "      <td>[share, info, yr, old, son, .]</td>\n",
       "    </tr>\n",
       "    <tr>\n",
       "      <th>3904</th>\n",
       "      <td>[first, !, love, messag, share, twin, !, one, ...</td>\n",
       "    </tr>\n",
       "  </tbody>\n",
       "</table>\n",
       "<p>3905 rows × 1 columns</p>\n",
       "</div>"
      ],
      "text/plain": [
       "                                                      0\n",
       "0                                                [text]\n",
       "1     [immedi, start, implement, life, ?, experi, le...\n",
       "2                     [play, onlin, game, improv, focu]\n",
       "3     [wish, comment, goe, mean, im, right, ok, than...\n",
       "4                                    [come, back, miss]\n",
       "...                                                 ...\n",
       "3900                           [monitor, self, thought]\n",
       "3901   [thank, messag, touch, real, .., graduation_cap]\n",
       "3902  [thank, ., unleash, supper, brain, remind, rem...\n",
       "3903                     [share, info, yr, old, son, .]\n",
       "3904  [first, !, love, messag, share, twin, !, one, ...\n",
       "\n",
       "[3905 rows x 1 columns]"
      ]
     },
     "execution_count": 7,
     "metadata": {},
     "output_type": "execute_result"
    }
   ],
   "source": [
    "from nltk.stem import PorterStemmer\n",
    "stemmer = PorterStemmer()\n",
    "\n",
    "df_output = df_tokens.applymap(lambda s: [stemmer.stem(word) for word in s] if type(s) == list else s)\n",
    "df_output\n",
    "\n",
    "# Save the DataFrame as a CSV file\n",
    "# df_output.to_csv('comment_file_video1_clean.csv', index=False)"
   ]
  },
  {
   "cell_type": "code",
   "execution_count": 8,
   "metadata": {},
   "outputs": [
    {
     "data": {
      "text/plain": [
       "range(1, 3906)"
      ]
     },
     "execution_count": 8,
     "metadata": {},
     "output_type": "execute_result"
    }
   ],
   "source": [
    "a = range(1, len(df) + 1)\n",
    "a"
   ]
  },
  {
   "cell_type": "code",
   "execution_count": 9,
   "metadata": {},
   "outputs": [
    {
     "name": "stderr",
     "output_type": "stream",
     "text": [
      "[nltk_data] Downloading package vader_lexicon to C:\\Users\\PPTI\n",
      "[nltk_data]     Java\\AppData\\Roaming\\nltk_data...\n",
      "[nltk_data]   Package vader_lexicon is already up-to-date!\n"
     ]
    },
    {
     "name": "stdout",
     "output_type": "stream",
     "text": [
      "      label                                               text\n",
      "0         1                                               text\n",
      "1         1  immedi start implement life ? experi learn fas...\n",
      "2         1                        play onlin game improv focu\n",
      "3         2  wish comment goe mean im right ok thank match ...\n",
      "4         1                                     come back miss\n",
      "...     ...                                                ...\n",
      "3900      1                               monitor self thought\n",
      "3901      1          thank messag touch real .. graduation_cap\n",
      "3902      1  thank . unleash supper brain remind remain chi...\n",
      "3903      1                            share info yr old son .\n",
      "3904      1  first ! love messag share twin ! one brain inj...\n",
      "\n",
      "[3905 rows x 2 columns]\n"
     ]
    }
   ],
   "source": [
    "from nltk.sentiment import SentimentIntensityAnalyzer\n",
    "\n",
    "nltk.download('vader_lexicon')\n",
    "sia = SentimentIntensityAnalyzer()\n",
    "\n",
    "new_column_values = []\n",
    "df_output[:3]\n",
    "for index, row in df_output.iterrows():\n",
    "    # Example: Let's create a new column 'SquaredAge' that contains the square of the 'Age' column\n",
    "    # squared_age = row['Age'] ** 2\n",
    "    # print(df_output[0][index])\n",
    "    try:\n",
    "        sentence = ' '.join(df_output[0][index])\n",
    "        sentiment_scores = sia.polarity_scores(sentence)\n",
    "        # print(' '.join(df_output[0][index]))\n",
    "        df_output[0][index] = sentence\n",
    "        value = 2\n",
    "        if sentiment_scores['neg'] > sentiment_scores['pos'] and sentiment_scores['neg'] > sentiment_scores['neu']:\n",
    "            value = 0\n",
    "        elif sentiment_scores['neu'] > sentiment_scores['pos']:\n",
    "            value = 1\n",
    "    except Exception as e:\n",
    "        value = -1\n",
    "    \n",
    "    new_column_values.append(value)\n",
    "# new_column_values.shape()\n",
    "df_output['label'] = new_column_values\n",
    "df_output\n",
    "df_output['text'] = df_output[0]\n",
    "df_output = df_output.drop(0, axis=1)\n",
    "df_output = df_output.dropna(subset=['text'])\n",
    "print(df_output)\n",
    "df_output.to_csv('new_comment_labeled_raw.csv', index=False)"
   ]
  },
  {
   "cell_type": "code",
   "execution_count": null,
   "metadata": {
    "colab": {
     "base_uri": "https://localhost:8080/",
     "height": 423
    },
    "id": "ZvitxtPjacU3",
    "outputId": "78d7092c-cace-4a36-fb4f-a1986d901569"
   },
   "outputs": [],
   "source": []
  },
  {
   "cell_type": "code",
   "execution_count": null,
   "metadata": {},
   "outputs": [],
   "source": []
  }
 ],
 "metadata": {
  "colab": {
   "provenance": []
  },
  "kernelspec": {
   "display_name": "Python 3 (ipykernel)",
   "language": "python",
   "name": "python3"
  },
  "language_info": {
   "codemirror_mode": {
    "name": "ipython",
    "version": 3
   },
   "file_extension": ".py",
   "mimetype": "text/x-python",
   "name": "python",
   "nbconvert_exporter": "python",
   "pygments_lexer": "ipython3",
   "version": "3.10.7"
  }
 },
 "nbformat": 4,
 "nbformat_minor": 4
}
